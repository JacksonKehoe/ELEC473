{
 "cells": [
  {
   "cell_type": "code",
   "execution_count": 829,
   "id": "5e5dcc96-9460-4061-bfbf-829fb3b4c295",
   "metadata": {},
   "outputs": [],
   "source": [
    "import random"
   ]
  },
  {
   "cell_type": "code",
   "execution_count": 830,
   "id": "bd49ee80-a214-4cfb-876f-fab8bfb7d0bf",
   "metadata": {},
   "outputs": [],
   "source": [
    "#functions for general operations"
   ]
  },
  {
   "cell_type": "code",
   "execution_count": 831,
   "id": "1a3e269b-2bff-44bb-8911-966cc1782926",
   "metadata": {},
   "outputs": [],
   "source": [
    "#encoding function\n",
    "def encode(msg):\n",
    "    string_ascii = ''\n",
    "    for i in msg:\n",
    "        string_ascii += str(ord(i) + 100)\n",
    "    return string_ascii"
   ]
  },
  {
   "cell_type": "code",
   "execution_count": 832,
   "id": "42527940-a6c9-42a8-a959-25136a237c69",
   "metadata": {},
   "outputs": [],
   "source": [
    "#decoding function\n",
    "def decode(msg):\n",
    "    pack = ''\n",
    "    i = 0\n",
    "    decoded_msg = ''\n",
    "    while i < len(str(msg)):\n",
    "        pack = int(msg[i:i + 3]) - 100\n",
    "        decoded_msg += chr(pack)\n",
    "        i = i + 3\n",
    "    return decoded_msg"
   ]
  },
  {
   "cell_type": "code",
   "execution_count": 833,
   "id": "654c4799-18fa-4406-ba37-63dd3ebaef7f",
   "metadata": {},
   "outputs": [],
   "source": [
    "def gcd(a1, b1):\n",
    "    last_rem, rem = abs(a1), abs(b1)\n",
    "    x, last_x, y, last_y = 0, 1, 1, 0\n",
    "    while rem:\n",
    "        last_rem, (q, rem) = rem, divmod(last_rem, rem)\n",
    "        x, last_x = last_x - q*x, x\n",
    "        y, last_y = last_y - q*y, y\n",
    "    return last_rem, last_x * (-1 if a1 < 0 else 1), last_y * (-1 if b1 < 0 else 1)"
   ]
  },
  {
   "cell_type": "code",
   "execution_count": 834,
   "id": "6745f101-f702-4f2e-974a-b6c38d2c4b00",
   "metadata": {},
   "outputs": [],
   "source": [
    "def mod_inv(a, m):\n",
    "    g, x, y = gcd(a, m)\n",
    "    if g != 1:\n",
    "        raise ValueError\n",
    "    return x % m"
   ]
  },
  {
   "cell_type": "code",
   "execution_count": 835,
   "id": "56191d24-abdc-417c-afa4-21c509bd257f",
   "metadata": {},
   "outputs": [],
   "source": [
    "def output(name, content):\n",
    "    f = open(name, \"a\")\n",
    "    f.write(str(content))\n",
    "    f.close()"
   ]
  },
  {
   "cell_type": "code",
   "execution_count": 836,
   "id": "5f944470-8f23-4584-b88d-f664999cfc5e",
   "metadata": {},
   "outputs": [],
   "source": [
    "#secp224 setup\n",
    "\n",
    "#prime\n",
    "P = 0xfffffffffffffffffffffffffffffffffffffffffffffffeffffe56d  \n",
    "\n",
    "# elliptic curve: y^2 = x^3 + A * x + B\n",
    "A = 0\n",
    "B = 5\n",
    "\n",
    "# generator\n",
    "Gx = 0xa1455b334df099df30fc28a169a467e9e47075a90f7e650eb6b7a45c\n",
    "Gy = 0x7e089fed7fba344282cafbd6f7e319f7c0b0bd59e2ca4bdb556d61a5\n",
    "G = (Gx, Gy)\n",
    "\n",
    "# order of G\n",
    "N = 0x10000000000000000000000000001dce8d2ec6184caf0a971769fb1f7\n",
    "\n",
    "k = random.getrandbits(224)"
   ]
  },
  {
   "cell_type": "code",
   "execution_count": 837,
   "id": "33c1ed4c-cf94-486f-817c-f1fbf835ef19",
   "metadata": {},
   "outputs": [],
   "source": [
    "#functions for ec curves"
   ]
  },
  {
   "cell_type": "code",
   "execution_count": 838,
   "id": "70ca3989-e14f-44b3-acc8-87c0c469c3a2",
   "metadata": {},
   "outputs": [],
   "source": [
    "def double(x1, y1, p=P, a=A):\n",
    "    s = ((3 * (x1 ** 2) + a) * mod_inv(2 * y1, p)) % p\n",
    "    x3 = (s ** 2 - x1 - x1) % p\n",
    "    y3 = (s * (x1 - x3) - y1) % p\n",
    "    return x3, y3"
   ]
  },
  {
   "cell_type": "code",
   "execution_count": 839,
   "id": "18a02eec-b56b-4b05-b6bb-feada21fff19",
   "metadata": {},
   "outputs": [],
   "source": [
    "def add(x1, y1, x2, y2, p=P, a=A):\n",
    "    s = 0\n",
    "    if x1 == x2:\n",
    "        s = ((3 * (x1 ** 2) + a) * mod_inv(2 * y1, p)) % p\n",
    "    else:\n",
    "        s = ((y2 - y1) * mod_inv(x2 - x1, p)) % p\n",
    "    x3 = (s ** 2 - x1 - x2) % p\n",
    "    y3 = (s * (x1 - x3) - y1) % p\n",
    "    return x3, y3"
   ]
  },
  {
   "cell_type": "code",
   "execution_count": 840,
   "id": "2c3245ac-4dd4-4382-b9a6-df10552f2402",
   "metadata": {},
   "outputs": [],
   "source": [
    "def multiply(mul, gen, p=P, a=A):\n",
    "    (x3, y3) = (0, 0)\n",
    "    (x1, y1) = gen\n",
    "    (x_tmp, y_tmp) = gen\n",
    "    init = 0\n",
    "    for i in str(bin(mul)[2:]):\n",
    "        if (i == '1') and (init == 0):\n",
    "            init = 1\n",
    "        elif (i == '1') and (init == 1):\n",
    "            (x3, y3) = double(x_tmp, y_tmp, p, a)\n",
    "            (x3, y3) = add(x1, y1, x3, y3, p, a)\n",
    "            (x_tmp, y_tmp) = (x3, y3)\n",
    "        else:\n",
    "            (x3, y3) = double(x_tmp, y_tmp, p, a)\n",
    "            (x_tmp, y_tmp) = (x3, y3)\n",
    "    return x3, y3"
   ]
  },
  {
   "cell_type": "code",
   "execution_count": 841,
   "id": "f586247c-da7b-4133-aa49-e464f776144e",
   "metadata": {},
   "outputs": [],
   "source": [
    "#generating key for encryption and decryption\n",
    "private_key = random.getrandbits(224)"
   ]
  },
  {
   "cell_type": "code",
   "execution_count": 842,
   "id": "69be86fd-0b77-4489-8a8f-f540eb0f5052",
   "metadata": {},
   "outputs": [],
   "source": [
    "def keygen():\n",
    "    # public key\n",
    "    return multiply(private_key, G)"
   ]
  },
  {
   "cell_type": "code",
   "execution_count": 843,
   "id": "e6daeeb1-b130-4b5d-be6c-923bb0ccad84",
   "metadata": {},
   "outputs": [],
   "source": [
    "# encryption\n",
    "def encrypt(public_key, txt):\n",
    "    C1 = ec_multiply(k, G)\n",
    "    C2 = ec_multiply(k, public_key)[0] + int(txt)\n",
    "    return C1, C2"
   ]
  },
  {
   "cell_type": "code",
   "execution_count": 844,
   "id": "5033aa93-543d-417c-80f2-1cc50f747aa5",
   "metadata": {},
   "outputs": [],
   "source": [
    "# decryption\n",
    "def decrypt(C1, C2, private_Key):\n",
    "    return C2 - multiply(private_Key, C1)[0]"
   ]
  },
  {
   "cell_type": "code",
   "execution_count": 845,
   "id": "91db8131-737d-4378-96a0-28e723762489",
   "metadata": {},
   "outputs": [],
   "source": [
    "#output files and test cases\n",
    "def main():\n",
    "    print(\"Here is the Setup: \")\n",
    "    #public key\n",
    "    public_key = keygen()\n",
    "    print(\"The Public Key is: \", public_key)\n",
    "    output(\"public_key.txt\", public_key)\n",
    "\n",
    "    #Generator\n",
    "    print(\"The Generator Point is: \", G)\n",
    "\n",
    "    #private key\n",
    "    print(\"The Private Key is: \", private_key)\n",
    "    print(\"\\n\")\n",
    "    output(\"private_key.txt\", private_key)\n",
    "\n",
    "    #test case 1\n",
    "    with open('test_case_1.txt', 'r') as file:\n",
    "        test_case_1 = file.read()\n",
    "\n",
    "    print(\"Test Case 1:\")\n",
    "    (C1, C2) = encrypt(public_key, encode(test_case_1))\n",
    "    string = decrypt(C1, C2, private_key)\n",
    "    decrypted_text = decode(str(string))\n",
    "    print(\"The Cipher Text for Test Case 1 : \", C1, C2)\n",
    "    print(\"The Decrypted Message: \", decrypted_text)\n",
    "    print(\"\\n\")\n",
    "    output(\"decrypted_test_case_1.txt\", decrypted_text)\n",
    "    \n",
    "    with open('test_case_2.txt', 'r') as file:\n",
    "        test_case_2 = file.read()\n",
    "\n",
    "    print(\"Test Case 2:\")\n",
    "    (C1, C2) = encrypt(public_key, encode(test_case_2))\n",
    "    string = decrypt(C1, C2, private_key)\n",
    "    decrypted_text = decode(str(string))\n",
    "    print(\"The Cipher Text for Test Case 2 : \", C1, C2)\n",
    "    print(\"The Decrypted Message: \",decrypted_text)\n",
    "    output(\"decrypted_test_case_2.txt\", decrypted_text)\n",
    "\n",
    "    #creating additional files\n",
    "    output(\"c1.txt\", C1)\n",
    "    output(\"c2.txt\", C2)\n"
   ]
  },
  {
   "cell_type": "code",
   "execution_count": 846,
   "id": "fa979354-edb1-4d09-92c9-93161b5513f1",
   "metadata": {},
   "outputs": [
    {
     "name": "stdout",
     "output_type": "stream",
     "text": [
      "Here is the Setup: \n",
      "The Public Key is:  (16428242821365106946151494941740555397256339467233621272139904620624, 989628995026326989797369769111949656992692707714858091030015380389)\n",
      "The Generator Point is:  (16983810465656793445178183341822322175883642221536626637512293983324, 13272896753306862154536785447615077600479862871316829862783613755813)\n",
      "The Private Key is:  23202481220577210482354000291693773088776892885554781306404576440131\n",
      "\n",
      "\n",
      "Test Case 1:\n",
      "The Cipher Text for Test Case 1 :  (10696031291557086741855538900367261947129284539067787205167278353296, 26917573109710817229673303951069899819426876009205702465923730276792) 173132197209132197210132217210200201214203214197200217197216201132215216217200201210236179625478756477839792010388060498136767918221305942483837431889175\n",
      "The Decrypted Message:  I am an undergraduate student at queen's university\n",
      "\n",
      "\n",
      "Test Case 2:\n",
      "The Cipher Text for Test Case 2 :  (10696031291557086741855538900367261947129284539067787205167278353296, 26917573109710817229673303951069899819426876009205702465923730276792) 20047428262624264622590809178095480203757923227297873444823430884155\n",
      "The Decrypted Message:  Jackson Kehoe\n"
     ]
    }
   ],
   "source": [
    "if __name__ == \"__main__\":\n",
    "    main()"
   ]
  }
 ],
 "metadata": {
  "kernelspec": {
   "display_name": "Python 3",
   "language": "python",
   "name": "python3"
  },
  "language_info": {
   "codemirror_mode": {
    "name": "ipython",
    "version": 3
   },
   "file_extension": ".py",
   "mimetype": "text/x-python",
   "name": "python",
   "nbconvert_exporter": "python",
   "pygments_lexer": "ipython3",
   "version": "3.8.8"
  }
 },
 "nbformat": 4,
 "nbformat_minor": 5
}
